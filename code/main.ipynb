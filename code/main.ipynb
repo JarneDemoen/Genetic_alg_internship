{
 "cells": [
  {
   "cell_type": "code",
   "execution_count": 271,
   "metadata": {},
   "outputs": [],
   "source": [
    "import pandas as pd\n",
    "from random import choices, randint, randrange\n",
    "import random\n",
    "import time\n",
    "import itertools"
   ]
  },
  {
   "cell_type": "code",
   "execution_count": 272,
   "metadata": {},
   "outputs": [],
   "source": [
    "dataset_courseSchedule = pd.read_csv('../data/CourseSchedule.csv', sep=';')\n",
    "# sort the dataset_courseSchedule by ET\n",
    "dataset_courseSchedule = dataset_courseSchedule.sort_values(by=['ET'])\n",
    "\n",
    "dataset_coursesPP = pd.read_csv('../data/Courses.csv', sep=';')\n",
    "dataset_professors = pd.read_csv('../data/Professors.csv', sep=';')\n",
    "\n",
    "semester = 1\n",
    "\n",
    "dataset_courseSchedule_semester = dataset_courseSchedule[dataset_courseSchedule['ET'] == semester]\n",
    "\n",
    "timeslots_day = [\n",
    "    \"7:10-8:00\",\n",
    "    \"8:00-8:50\",\n",
    "    \"8:50-9:40\",\n",
    "    \"9:55-10:45\",\n",
    "    \"10:45-11:35\",\n",
    "    \"11:35-12:25\",\n",
    "    \"12:45-13:35\",\n",
    "    \"13:35-14:25\",\n",
    "    \"14:25-15:15\",\n",
    "    \"15:30-16:20\",\n",
    "    \"16:20-17:10\",\n",
    "    \"17:10-18:00\",\n",
    "    \"18:00-18:50\",\n",
    "    \"19:00-19:50\",\n",
    "    \"19:50-20:40\",\n",
    "    \"20:55-21:45\",\n",
    "    \"21:45-22:35\"]\n",
    "days = [\"Monday\", \"Tuesday\", \"Wednesday\", \"Thursday\", \"Friday\", \"Saturday\"]\n",
    "\n",
    "# create a pandas dataframe where you combine the timeslots and days\n",
    "timeslots = [timeslots_day for i in range(len(days))]"
   ]
  },
  {
   "cell_type": "code",
   "execution_count": 273,
   "metadata": {},
   "outputs": [
    {
     "name": "stdout",
     "output_type": "stream",
     "text": [
      "  DISCIPLINA  AT  AP  AE  AV                         NOME  CR  SL/B  ET  \\\n",
      "0     HE722C   2   2   0   0     ALGORITMOS E PROGRAMACAO  5W  24/B   1   \n",
      "1     HE722D   2   2   0   0     ALGORITMOS E PROGRAMACAO  5W  24/B   1   \n",
      "2     HE822C   4   0   0   0  FUND. DA MATEMATICA p/ ENG.  5W  24/B   1   \n",
      "3     HF222B   2   0   0   2    FUND. DE ENG. DE SOFTWARE  5W  20/B   1   \n",
      "4     HE622C   2   2   0   0        LOGICA E CRIATIVIDADE  5W  17/G   1   \n",
      "5     HE622D   2   2   0   0        LOGICA E CRIATIVIDADE  5W  17/G   1   \n",
      "\n",
      "   PROFESSOR  ALUNOS MATRIC  \n",
      "0     11.785             26  \n",
      "1     11.785             30  \n",
      "2     11.792             52  \n",
      "3     13.034             59  \n",
      "4     13.070             31  \n",
      "5     13.070             30  \n"
     ]
    }
   ],
   "source": [
    "print(dataset_courseSchedule_semester)"
   ]
  },
  {
   "cell_type": "code",
   "execution_count": 274,
   "metadata": {},
   "outputs": [
    {
     "name": "stdout",
     "output_type": "stream",
     "text": [
      "{'11.785': ['HE722'], '11.792': ['HE822', 'RG312', 'GM722'], '12.203': ['GB922'], '12.274': ['AC222', 'AD422', 'AD522'], '13.000': ['HF222', 'AC622', 'AD322', 'GK622'], '13.034': ['HE722', 'AB422', 'HF222', 'GL822', 'R0812'], '13.070': ['HE622', 'AD422'], '14.091': ['AB322', 'AE422'], '14.472': ['GJ922', 'R8512', 'AB422', 'GL822', 'R0812'], '14.525': ['HE722', 'AB522', 'AC422', 'AC822'], '14.616': ['AD222'], '14.642': ['GJ922', 'R8512', 'AC922', 'AC922', 'AC122', 'AD522', 'RG712'], '14.776': ['HE722', 'GJ922', 'GK622'], '14.875': ['R8512', 'AD122', 'AC322'], '45.000': ['AC522', 'FU422', 'FV722', 'AB122']}\n"
     ]
    }
   ],
   "source": [
    "# create a dictionary where all of the courses that a teacher teaches are stored\n",
    "professor_courses = {}\n",
    "for professor in dataset_professors['CODE']:\n",
    "    professor_code = str(professor)\n",
    "    # the lenght of the professor code has to be 6, if not, add 0's to the right\n",
    "    while len(professor_code) < 6:\n",
    "        professor_code += \"0\"\n",
    "    professor_courses[professor_code] = []\n",
    "    for index in range(len(dataset_coursesPP)):\n",
    "        if dataset_coursesPP['PROFESSOR CODE'][index] == professor:\n",
    "            professor_courses[professor_code].append(dataset_coursesPP['DISCIPLINA'][index])\n",
    "print(professor_courses)"
   ]
  },
  {
   "cell_type": "code",
   "execution_count": 275,
   "metadata": {},
   "outputs": [],
   "source": [
    "def generate_bit_length(db_length):\n",
    "    value = 0\n",
    "    for i in range(10):\n",
    "        value += 2**i\n",
    "        if value >= db_length:\n",
    "            return i+1"
   ]
  },
  {
   "cell_type": "code",
   "execution_count": 276,
   "metadata": {},
   "outputs": [
    {
     "name": "stdout",
     "output_type": "stream",
     "text": [
      "3\n",
      "4\n",
      "3\n",
      "5\n"
     ]
    }
   ],
   "source": [
    "len_classes_encoding = generate_bit_length(len(dataset_courseSchedule_semester))\n",
    "len_professors_encoding = generate_bit_length(len(dataset_professors))\n",
    "len_timeslots_day_encoding = generate_bit_length(len(days))\n",
    "len_timeslots_encoding = generate_bit_length(len(timeslots_day))\n",
    "\n",
    "print(len_classes_encoding)\n",
    "print(len_professors_encoding)\n",
    "print(len_timeslots_day_encoding)\n",
    "print(len_timeslots_encoding)"
   ]
  },
  {
   "cell_type": "code",
   "execution_count": 277,
   "metadata": {},
   "outputs": [],
   "source": [
    "def generate_genome(length, database):\n",
    "    binary_value = 100000\n",
    "    while binary_value >= len(database):\n",
    "        i = 0\n",
    "        genome = choices([0,1], k=length)\n",
    "        binary_value = 0\n",
    "        reverse_genome = genome[::-1]\n",
    "        for bit in reverse_genome:\n",
    "            binary_value += bit*2**i\n",
    "            i += 1\n",
    "    return genome"
   ]
  },
  {
   "cell_type": "code",
   "execution_count": 278,
   "metadata": {},
   "outputs": [
    {
     "name": "stdout",
     "output_type": "stream",
     "text": [
      "Class: [0, 0, 0]\n",
      "Professor: [0, 0, 0, 1]\n",
      "Timeslot day: [0, 0, 0]\n",
      "Timeslot: [0, 1, 1, 1, 1]\n"
     ]
    }
   ],
   "source": [
    "genome_class_binary = generate_genome(len_classes_encoding, dataset_courseSchedule_semester)\n",
    "genome_professor_binary = generate_genome(len_professors_encoding, dataset_professors)\n",
    "genome_timeslot_day_binary = generate_genome(len_timeslots_day_encoding, days)\n",
    "genome_timeslot_binary = generate_genome(len_timeslots_encoding, timeslots_day)\n",
    "\n",
    "# print all of the genome binarys with string formatting\n",
    "print(\"Class: {}\".format(genome_class_binary))\n",
    "print(\"Professor: {}\".format(genome_professor_binary))\n",
    "print(\"Timeslot day: {}\".format(genome_timeslot_day_binary))\n",
    "print(\"Timeslot: {}\".format(genome_timeslot_binary))"
   ]
  },
  {
   "cell_type": "code",
   "execution_count": 279,
   "metadata": {},
   "outputs": [],
   "source": [
    "def translate_genome(genome, database):\n",
    "    # reverse the genome\n",
    "    reverse_genome = genome[::-1]\n",
    "    binary_value = 0\n",
    "    i = 0\n",
    "    for bit in reverse_genome:\n",
    "        binary_value += bit*2**i\n",
    "        i += 1\n",
    "    return binary_value"
   ]
  },
  {
   "cell_type": "code",
   "execution_count": 280,
   "metadata": {},
   "outputs": [
    {
     "name": "stdout",
     "output_type": "stream",
     "text": [
      "Summary generated genome\n",
      "Class: [0, 0, 0]\n",
      "class_binary_value: 0\n",
      "Class: HE722C\n",
      "\n",
      "\n",
      "Professor: [0, 0, 0, 1]\n",
      "professor_binary_value: 1\n",
      "Professor: 11.792\n",
      "\n",
      "\n",
      "Timeslot day: [0, 0, 0]\n",
      "timeslot_day_binary_value: 0\n",
      "Timeslot day: Monday\n",
      "\n",
      "\n",
      "Timeslot: [0, 1, 1, 1, 1]\n",
      "timeslot_binary_value: 15\n",
      "Timeslot: 20:55-21:45\n",
      "The class HE722C is taught by 11.792 on Monday at 20:55-21:45.\n"
     ]
    }
   ],
   "source": [
    "class_part = translate_genome(genome_class_binary, dataset_courseSchedule_semester)\n",
    "professor_part = translate_genome(genome_professor_binary, dataset_professors)\n",
    "timeslots_day_part = translate_genome(genome_timeslot_day_binary, days)\n",
    "timeslots_part = translate_genome(genome_timeslot_binary, timeslots_day)\n",
    "\n",
    "print(\"Summary generated genome\")\n",
    "print(\"Class: {}\".format(genome_class_binary))\n",
    "print(\"class_binary_value: {}\".format(class_part))\n",
    "print(\"Class: {}\".format(dataset_courseSchedule_semester['DISCIPLINA'][class_part]))\n",
    "print('\\n')\n",
    "\n",
    "print(\"Professor: {}\".format(genome_professor_binary))\n",
    "print(\"professor_binary_value: {}\".format(professor_part))\n",
    "print(\"Professor: {}\".format(dataset_professors['CODE'][professor_part]))\n",
    "print('\\n')\n",
    "\n",
    "\n",
    "print(\"Timeslot day: {}\".format(genome_timeslot_day_binary))\n",
    "print(\"timeslot_day_binary_value: {}\".format(timeslots_day_part))\n",
    "print(\"Timeslot day: {}\".format(days[timeslots_day_part]))\n",
    "print('\\n')\n",
    "\n",
    "print(\"Timeslot: {}\".format(genome_timeslot_binary))\n",
    "print(\"timeslot_binary_value: {}\".format(timeslots_part))\n",
    "print(\"Timeslot: {}\".format(timeslots_day[timeslots_part]))\n",
    "\n",
    "# write a sentence with the information of the genome\n",
    "sentence = \"The class {} is taught by {} on {} at {}.\".format(dataset_courseSchedule_semester['DISCIPLINA'][class_part], dataset_professors['CODE'][professor_part], days[timeslots_day_part], timeslots_day[timeslots_part])\n",
    "print(sentence)\n"
   ]
  }
 ],
 "metadata": {
  "kernelspec": {
   "display_name": "tf-gpu",
   "language": "python",
   "name": "python3"
  },
  "language_info": {
   "codemirror_mode": {
    "name": "ipython",
    "version": 3
   },
   "file_extension": ".py",
   "mimetype": "text/x-python",
   "name": "python",
   "nbconvert_exporter": "python",
   "pygments_lexer": "ipython3",
   "version": "3.9.13"
  },
  "orig_nbformat": 4
 },
 "nbformat": 4,
 "nbformat_minor": 2
}
