{
 "cells": [
  {
   "cell_type": "code",
   "execution_count": 51,
   "metadata": {},
   "outputs": [],
   "source": [
    "import pandas as pd\n",
    "from random import choices, randint, randrange\n",
    "import random\n",
    "import time\n",
    "import itertools"
   ]
  },
  {
   "cell_type": "code",
   "execution_count": 52,
   "metadata": {},
   "outputs": [],
   "source": [
    "dataset_courseSchedule = pd.read_csv('../data/CourseSchedule.csv', sep=';')\n",
    "# sort the dataset_courseSchedule by ET\n",
    "dataset_courseSchedule = dataset_courseSchedule.sort_values(by=['ET'])\n",
    "\n",
    "dataset_coursesPP = pd.read_csv('../data/Courses.csv', sep=';')\n",
    "dataset_professors = pd.read_csv('../data/Professors.csv', sep=';')\n",
    "\n",
    "semester = 1\n",
    "\n",
    "dataset_courseSchedule_semester = dataset_courseSchedule[dataset_courseSchedule['ET'] == semester]\n",
    "\n",
    "timeslots = [\n",
    "    \"7:10-8:00\",\n",
    "    \"8:00-8:50\",\n",
    "    \"8:50-9:40\",\n",
    "    \"9:55-10:45\",\n",
    "    \"10:45-11:35\",\n",
    "    \"11:35-12:25\",\n",
    "    \"12:45-13:35\",\n",
    "    \"13:35-14:25\",\n",
    "    \"14:25-15:15\",\n",
    "    \"15:30-16:20\",\n",
    "    \"16:20-17:10\",\n",
    "    \"17:10-18:00\",\n",
    "    \"18:00-18:50\",\n",
    "    \"19:00-19:50\",\n",
    "    \"19:50-20:40\",\n",
    "    \"20:55-21:45\",\n",
    "    \"21:45-22:35\"]\n",
    "days = [\"Monday\", \"Tuesday\", \"Wednesday\", \"Thursday\", \"Friday\", \"Saturday\"]\n",
    "\n",
    "# create a pandas dataframe where you combine the timeslots and days\n"
   ]
  },
  {
   "cell_type": "code",
   "execution_count": 53,
   "metadata": {},
   "outputs": [
    {
     "name": "stdout",
     "output_type": "stream",
     "text": [
      "  DISCIPLINA  AT  AP  AE  AV                         NOME  CR  SL/B  ET  \\\n",
      "0     HE722C   2   2   0   0     ALGORITMOS E PROGRAMACAO  5W  24/B   1   \n",
      "1     HE722D   2   2   0   0     ALGORITMOS E PROGRAMACAO  5W  24/B   1   \n",
      "2     HE822C   4   0   0   0  FUND. DA MATEMATICA p/ ENG.  5W  24/B   1   \n",
      "3     HF222B   2   0   0   2    FUND. DE ENG. DE SOFTWARE  5W  20/B   1   \n",
      "4     HE622C   2   2   0   0        LOGICA E CRIATIVIDADE  5W  17/G   1   \n",
      "5     HE622D   2   2   0   0        LOGICA E CRIATIVIDADE  5W  17/G   1   \n",
      "\n",
      "   PROFESSOR  ALUNOS MATRIC  \n",
      "0     11.785             26  \n",
      "1     11.785             30  \n",
      "2     11.792             52  \n",
      "3     13.034             59  \n",
      "4     13.070             31  \n",
      "5     13.070             30  \n"
     ]
    }
   ],
   "source": [
    "print(dataset_courseSchedule_semester)"
   ]
  },
  {
   "cell_type": "code",
   "execution_count": 54,
   "metadata": {},
   "outputs": [
    {
     "name": "stdout",
     "output_type": "stream",
     "text": [
      "{'11.785': ['HE722'], '11.792': ['HE822', 'RG312', 'GM722'], '12.203': ['GB922'], '12.274': ['AC222', 'AD422', 'AD522'], '13.000': ['HF222', 'AC622', 'AD322', 'GK622'], '13.034': ['HE722', 'AB422', 'HF222', 'GL822', 'R0812'], '13.070': ['HE622', 'AD422'], '14.091': ['AB322', 'AE422'], '14.472': ['GJ922', 'R8512', 'AB422', 'GL822', 'R0812'], '14.525': ['HE722', 'AB522', 'AC422', 'AC822'], '14.616': ['AD222'], '14.642': ['GJ922', 'R8512', 'AC922', 'AC922', 'AC122', 'AD522', 'RG712'], '14.776': ['HE722', 'GJ922', 'GK622'], '14.875': ['R8512', 'AD122', 'AC322'], '45.000': ['AC522', 'FU422', 'FV722', 'AB122']}\n"
     ]
    }
   ],
   "source": [
    "# create a dictionary where all of the courses that a teacher teaches are stored\n",
    "professor_courses = {}\n",
    "for professor in dataset_professors['CODE']:\n",
    "    professor_code = str(professor)\n",
    "    # the lenght of the professor code has to be 6, if not, add 0's to the right\n",
    "    while len(professor_code) < 6:\n",
    "        professor_code += \"0\"\n",
    "    professor_courses[professor_code] = []\n",
    "    for index in range(len(dataset_coursesPP)):\n",
    "        if dataset_coursesPP['PROFESSOR CODE'][index] == professor:\n",
    "            professor_courses[professor_code].append(dataset_coursesPP['DISCIPLINA'][index])\n",
    "print(professor_courses)"
   ]
  },
  {
   "cell_type": "code",
   "execution_count": 55,
   "metadata": {},
   "outputs": [],
   "source": [
    "def generate_bit_length(db_length):\n",
    "    value = 0\n",
    "    for i in range(10):\n",
    "        value += 2**i\n",
    "        if value >= db_length:\n",
    "            return i+1"
   ]
  },
  {
   "cell_type": "code",
   "execution_count": 56,
   "metadata": {},
   "outputs": [
    {
     "name": "stdout",
     "output_type": "stream",
     "text": [
      "3\n",
      "4\n",
      "5\n"
     ]
    }
   ],
   "source": [
    "len_classes_encoding = generate_bit_length(len(dataset_courseSchedule_semester))\n",
    "len_professors_encoding = generate_bit_length(len(dataset_professors))\n",
    "len_timeslots_encoding = generate_bit_length(len(dataset_timeslots))\n",
    "\n",
    "print(len_classes_encoding)\n",
    "print(len_professors_encoding)\n",
    "print(len_timeslots_encoding)"
   ]
  },
  {
   "cell_type": "code",
   "execution_count": 57,
   "metadata": {},
   "outputs": [],
   "source": [
    "def generate_genome(length, database):\n",
    "    binary_value = 100000\n",
    "    while binary_value >= len(database):\n",
    "        genome = choices([0,1], k=length)\n",
    "        binary_value = 0\n",
    "        for i in range(len(genome)):\n",
    "            binary_value += genome[i] * 2**i\n",
    "    return genome"
   ]
  },
  {
   "cell_type": "code",
   "execution_count": 58,
   "metadata": {},
   "outputs": [
    {
     "name": "stdout",
     "output_type": "stream",
     "text": [
      "genome_class_part:  [1, 0, 1]\n",
      "genome_professor_part:  [0, 1, 0, 0]\n",
      "genome_timeslot_part:  [1, 0, 1, 0, 0]\n"
     ]
    }
   ],
   "source": [
    "genome_class_part = generate_genome(len_classes_encoding, dataset_courseSchedule_semester)\n",
    "genome_professor_part = generate_genome(len_professors_encoding, dataset_professors)\n",
    "genome_timeslot_part = generate_genome(len_timeslots_encoding, dataset_timeslots)\n",
    "\n",
    "print(\"genome_class_part: \", genome_class_part)\n",
    "print(\"genome_professor_part: \", genome_professor_part)\n",
    "print(\"genome_timeslot_part: \", genome_timeslot_part)"
   ]
  },
  {
   "cell_type": "code",
   "execution_count": 59,
   "metadata": {},
   "outputs": [],
   "source": [
    "def translate_genome(genome, database):\n",
    "    # reverse the genome\n",
    "    genome.reverse()\n",
    "    binary_value = 0\n",
    "    for i in range(len(genome)):\n",
    "        binary_value += genome[i] * 2**i\n",
    "    return database.iloc[binary_value]"
   ]
  },
  {
   "cell_type": "code",
   "execution_count": 60,
   "metadata": {},
   "outputs": [
    {
     "ename": "IndexError",
     "evalue": "single positional indexer is out-of-bounds",
     "output_type": "error",
     "traceback": [
      "\u001b[1;31m---------------------------------------------------------------------------\u001b[0m",
      "\u001b[1;31mIndexError\u001b[0m                                Traceback (most recent call last)",
      "\u001b[1;32mc:\\Users\\jarne\\OneDrive\\Documents\\Semester5en6\\Stage\\Genetic_alg_internship\\code\\main.ipynb Cell 10\u001b[0m in \u001b[0;36m3\n\u001b[0;32m      <a href='vscode-notebook-cell:/c%3A/Users/jarne/OneDrive/Documents/Semester5en6/Stage/Genetic_alg_internship/code/main.ipynb#X11sZmlsZQ%3D%3D?line=0'>1</a>\u001b[0m class_part \u001b[39m=\u001b[39m translate_genome(genome_class_part, dataset_courseSchedule_semester)\n\u001b[0;32m      <a href='vscode-notebook-cell:/c%3A/Users/jarne/OneDrive/Documents/Semester5en6/Stage/Genetic_alg_internship/code/main.ipynb#X11sZmlsZQ%3D%3D?line=1'>2</a>\u001b[0m professor_part \u001b[39m=\u001b[39m translate_genome(genome_professor_part, dataset_professors)\n\u001b[1;32m----> <a href='vscode-notebook-cell:/c%3A/Users/jarne/OneDrive/Documents/Semester5en6/Stage/Genetic_alg_internship/code/main.ipynb#X11sZmlsZQ%3D%3D?line=2'>3</a>\u001b[0m timeslot_part \u001b[39m=\u001b[39m translate_genome(genome_timeslot_part, dataset_timeslots)\n\u001b[0;32m      <a href='vscode-notebook-cell:/c%3A/Users/jarne/OneDrive/Documents/Semester5en6/Stage/Genetic_alg_internship/code/main.ipynb#X11sZmlsZQ%3D%3D?line=4'>5</a>\u001b[0m \u001b[39mprint\u001b[39m(\u001b[39m\"\u001b[39m\u001b[39mclass_part: \u001b[39m\u001b[39m\"\u001b[39m, class_part)\n\u001b[0;32m      <a href='vscode-notebook-cell:/c%3A/Users/jarne/OneDrive/Documents/Semester5en6/Stage/Genetic_alg_internship/code/main.ipynb#X11sZmlsZQ%3D%3D?line=5'>6</a>\u001b[0m \u001b[39mprint\u001b[39m(\u001b[39m\"\u001b[39m\u001b[39m---------------\u001b[39m\u001b[39m\"\u001b[39m)\n",
      "\u001b[1;32mc:\\Users\\jarne\\OneDrive\\Documents\\Semester5en6\\Stage\\Genetic_alg_internship\\code\\main.ipynb Cell 10\u001b[0m in \u001b[0;36m7\n\u001b[0;32m      <a href='vscode-notebook-cell:/c%3A/Users/jarne/OneDrive/Documents/Semester5en6/Stage/Genetic_alg_internship/code/main.ipynb#X11sZmlsZQ%3D%3D?line=4'>5</a>\u001b[0m \u001b[39mfor\u001b[39;00m i \u001b[39min\u001b[39;00m \u001b[39mrange\u001b[39m(\u001b[39mlen\u001b[39m(genome)):\n\u001b[0;32m      <a href='vscode-notebook-cell:/c%3A/Users/jarne/OneDrive/Documents/Semester5en6/Stage/Genetic_alg_internship/code/main.ipynb#X11sZmlsZQ%3D%3D?line=5'>6</a>\u001b[0m     binary_value \u001b[39m+\u001b[39m\u001b[39m=\u001b[39m genome[i] \u001b[39m*\u001b[39m \u001b[39m2\u001b[39m\u001b[39m*\u001b[39m\u001b[39m*\u001b[39mi\n\u001b[1;32m----> <a href='vscode-notebook-cell:/c%3A/Users/jarne/OneDrive/Documents/Semester5en6/Stage/Genetic_alg_internship/code/main.ipynb#X11sZmlsZQ%3D%3D?line=6'>7</a>\u001b[0m \u001b[39mreturn\u001b[39;00m database\u001b[39m.\u001b[39;49miloc[binary_value]\n",
      "File \u001b[1;32mc:\\Users\\jarne\\miniconda3\\envs\\tf-gpu\\lib\\site-packages\\pandas\\core\\indexing.py:967\u001b[0m, in \u001b[0;36m_LocationIndexer.__getitem__\u001b[1;34m(self, key)\u001b[0m\n\u001b[0;32m    964\u001b[0m axis \u001b[39m=\u001b[39m \u001b[39mself\u001b[39m\u001b[39m.\u001b[39maxis \u001b[39mor\u001b[39;00m \u001b[39m0\u001b[39m\n\u001b[0;32m    966\u001b[0m maybe_callable \u001b[39m=\u001b[39m com\u001b[39m.\u001b[39mapply_if_callable(key, \u001b[39mself\u001b[39m\u001b[39m.\u001b[39mobj)\n\u001b[1;32m--> 967\u001b[0m \u001b[39mreturn\u001b[39;00m \u001b[39mself\u001b[39;49m\u001b[39m.\u001b[39;49m_getitem_axis(maybe_callable, axis\u001b[39m=\u001b[39;49maxis)\n",
      "File \u001b[1;32mc:\\Users\\jarne\\miniconda3\\envs\\tf-gpu\\lib\\site-packages\\pandas\\core\\indexing.py:1520\u001b[0m, in \u001b[0;36m_iLocIndexer._getitem_axis\u001b[1;34m(self, key, axis)\u001b[0m\n\u001b[0;32m   1517\u001b[0m     \u001b[39mraise\u001b[39;00m \u001b[39mTypeError\u001b[39;00m(\u001b[39m\"\u001b[39m\u001b[39mCannot index by location index with a non-integer key\u001b[39m\u001b[39m\"\u001b[39m)\n\u001b[0;32m   1519\u001b[0m \u001b[39m# validate the location\u001b[39;00m\n\u001b[1;32m-> 1520\u001b[0m \u001b[39mself\u001b[39;49m\u001b[39m.\u001b[39;49m_validate_integer(key, axis)\n\u001b[0;32m   1522\u001b[0m \u001b[39mreturn\u001b[39;00m \u001b[39mself\u001b[39m\u001b[39m.\u001b[39mobj\u001b[39m.\u001b[39m_ixs(key, axis\u001b[39m=\u001b[39maxis)\n",
      "File \u001b[1;32mc:\\Users\\jarne\\miniconda3\\envs\\tf-gpu\\lib\\site-packages\\pandas\\core\\indexing.py:1452\u001b[0m, in \u001b[0;36m_iLocIndexer._validate_integer\u001b[1;34m(self, key, axis)\u001b[0m\n\u001b[0;32m   1450\u001b[0m len_axis \u001b[39m=\u001b[39m \u001b[39mlen\u001b[39m(\u001b[39mself\u001b[39m\u001b[39m.\u001b[39mobj\u001b[39m.\u001b[39m_get_axis(axis))\n\u001b[0;32m   1451\u001b[0m \u001b[39mif\u001b[39;00m key \u001b[39m>\u001b[39m\u001b[39m=\u001b[39m len_axis \u001b[39mor\u001b[39;00m key \u001b[39m<\u001b[39m \u001b[39m-\u001b[39mlen_axis:\n\u001b[1;32m-> 1452\u001b[0m     \u001b[39mraise\u001b[39;00m \u001b[39mIndexError\u001b[39;00m(\u001b[39m\"\u001b[39m\u001b[39msingle positional indexer is out-of-bounds\u001b[39m\u001b[39m\"\u001b[39m)\n",
      "\u001b[1;31mIndexError\u001b[0m: single positional indexer is out-of-bounds"
     ]
    }
   ],
   "source": [
    "class_part = translate_genome(genome_class_part, dataset_courseSchedule_semester)\n",
    "professor_part = translate_genome(genome_professor_part, dataset_professors)\n",
    "timeslot_part = translate_genome(genome_timeslot_part, dataset_timeslots)\n",
    "\n",
    "print(\"class_part: \", class_part)\n",
    "print(\"---------------\")\n",
    "print(\"professor_part: \", professor_part)\n",
    "print(\"---------------\")\n",
    "print(\"timeslot_part: \", timeslot_part)"
   ]
  },
  {
   "cell_type": "code",
   "execution_count": 61,
   "metadata": {},
   "outputs": [
    {
     "name": "stdout",
     "output_type": "stream",
     "text": [
      "       timeslot\n",
      "0     7:10-8:00\n",
      "1     8:00-8:50\n",
      "2     8:50-9:40\n",
      "3    9:55-10:45\n",
      "4   10:45-11:35\n",
      "5   11:35-12:25\n",
      "6   12:45-13:35\n",
      "7   13:35-14:25\n",
      "8   14:25-15:15\n",
      "9   15:30-16:20\n",
      "10  16:20-17:10\n",
      "11  17:10-18:00\n",
      "12  18:00-18:50\n",
      "13  19:00-19:50\n",
      "14  19:50-20:40\n",
      "15  20:55-21:45\n",
      "16  21:45-22:35\n"
     ]
    }
   ],
   "source": [
    "print(dataset_timeslots)"
   ]
  }
 ],
 "metadata": {
  "kernelspec": {
   "display_name": "tf-gpu",
   "language": "python",
   "name": "python3"
  },
  "language_info": {
   "codemirror_mode": {
    "name": "ipython",
    "version": 3
   },
   "file_extension": ".py",
   "mimetype": "text/x-python",
   "name": "python",
   "nbconvert_exporter": "python",
   "pygments_lexer": "ipython3",
   "version": "3.9.13"
  },
  "orig_nbformat": 4
 },
 "nbformat": 4,
 "nbformat_minor": 2
}
